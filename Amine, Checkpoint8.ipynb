{
 "cells": [
  {
   "cell_type": "markdown",
   "metadata": {},
   "source": [
    "# 1>"
   ]
  },
  {
   "cell_type": "markdown",
   "metadata": {},
   "source": [
    "## Binary Search [5, 6]> "
   ]
  },
  {
   "cell_type": "code",
   "execution_count": 8,
   "metadata": {},
   "outputs": [
    {
     "name": "stdout",
     "output_type": "stream",
     "text": [
      "False\n",
      "True\n"
     ]
    }
   ],
   "source": [
    "def binary_search(sequence, item):\n",
    "    first_n = 0\n",
    "    last_n = len(sequence) - 1\n",
    "    found = False\n",
    "    while first_n <= last_n and not found:\n",
    "        midpoint = (first_n + last_n) // 2\n",
    "        if sequence[midpoint] == item:\n",
    "            found = True\n",
    "        \n",
    "        else:\n",
    "            if item < sequence[midpoint]:\n",
    "                last_n = midpoint - 1\n",
    "            else:\n",
    "                first_n = midpoint + 1\n",
    "\n",
    "    return found\n",
    "\n",
    "sequence = [1,2,3,5,8]\n",
    "item = [5, 6]\n",
    "\n",
    "print(binary_search(sequence, item[1]))\n",
    "print(binary_search(sequence, item[0]))"
   ]
  },
  {
   "cell_type": "markdown",
   "metadata": {},
   "source": [
    "# 2>"
   ]
  },
  {
   "cell_type": "markdown",
   "metadata": {},
   "source": [
    "## The power of the 2nd number>"
   ]
  },
  {
   "cell_type": "code",
   "execution_count": 10,
   "metadata": {},
   "outputs": [
    {
     "data": {
      "text/plain": [
       "81"
      ]
     },
     "execution_count": 10,
     "metadata": {},
     "output_type": "execute_result"
    }
   ],
   "source": [
    "def power(num1, num2):\n",
    "    a = num1**num2\n",
    "    return a\n",
    "\n",
    "power(3, 4)"
   ]
  },
  {
   "cell_type": "markdown",
   "metadata": {},
   "source": [
    "# 3>"
   ]
  },
  {
   "cell_type": "markdown",
   "metadata": {},
   "source": [
    "## Sorting an array using the 'Bubble Sort Algorithm'>"
   ]
  },
  {
   "cell_type": "code",
   "execution_count": 21,
   "metadata": {},
   "outputs": [
    {
     "name": "stdout",
     "output_type": "stream",
     "text": [
      "Output> [13, 22, 29, 37, 46, 49, 52, 56, 71] \n"
     ]
    }
   ],
   "source": [
    "def BubbleSort1(sequence):\n",
    "    for i in range(len(sequence)-1, 0, -1):\n",
    "        for j in range(i):\n",
    "            if sequence[j] > sequence[j + 1]:\n",
    "                temp = sequence[j]\n",
    "                sequence[j] = sequence[j + 1]\n",
    "                sequence[j + 1] = temp\n",
    "    return sequence\n",
    "\n",
    "sequence = [29,13,22,37,52,49,46,71,56]\n",
    "print(\"Output> {} \".format(BubbleSort1(sequence)))"
   ]
  },
  {
   "cell_type": "markdown",
   "metadata": {},
   "source": [
    "# 4>"
   ]
  },
  {
   "cell_type": "markdown",
   "metadata": {},
   "source": [
    "## Sorting a list using the 'Merge Sort Algorithm'>"
   ]
  },
  {
   "cell_type": "code",
   "execution_count": 26,
   "metadata": {},
   "outputs": [
    {
     "name": "stdout",
     "output_type": "stream",
     "text": [
      "Output> [13, 22, 29, 37, 46, 49, 52, 56, 71] \n"
     ]
    }
   ],
   "source": [
    "def mergeSort(sequence):\n",
    "    if len(sequence) > 1:\n",
    "        mid = len(sequence) // 2\n",
    "        left = sequence[:mid]\n",
    "        right = sequence[mid:]\n",
    "\n",
    "        mergeSort(left)\n",
    "        mergeSort(right)\n",
    "\n",
    "        i = 0\n",
    "        j = 0\n",
    "        \n",
    "\n",
    "        k = 0\n",
    "        \n",
    "        while i < len(left) and j < len(right):\n",
    "            if left[i] < right[j]:\n",
    "\n",
    "              sequence[k] = left[i]\n",
    "\n",
    "              i += 1\n",
    "            else:\n",
    "                sequence[k] = right[j]\n",
    "                j += 1\n",
    "\n",
    "            k += 1\n",
    "\n",
    "        while i < len(left):\n",
    "            sequence[k] = left[i]\n",
    "            i += 1\n",
    "            k += 1\n",
    "\n",
    "        while j < len(right):\n",
    "            sequence[k]=right[j]\n",
    "            j += 1\n",
    "            k += 1\n",
    "    \n",
    "    return sequence\n",
    "\n",
    "print(\"Output> {} \".format(mergeSort(sequence)))"
   ]
  },
  {
   "cell_type": "markdown",
   "metadata": {},
   "source": [
    "# 5>"
   ]
  },
  {
   "cell_type": "markdown",
   "metadata": {},
   "source": [
    "## Sorting a list using the 'Quick Sort Algorithm'>"
   ]
  },
  {
   "cell_type": "code",
   "execution_count": 32,
   "metadata": {},
   "outputs": [
    {
     "name": "stdout",
     "output_type": "stream",
     "text": [
      "[13, 22, 29, 37, 46, 49, 52, 56, 71]\n"
     ]
    }
   ],
   "source": [
    "def quickSort(data_list):\n",
    "   quickSortHlp(data_list,0,len(data_list)-1)\n",
    "\n",
    "def quickSortHlp(data_list,first,last):\n",
    "   if first < last:\n",
    "\n",
    "       splitpoint = partition(data_list,first,last)\n",
    "\n",
    "       quickSortHlp(data_list,first,splitpoint-1)\n",
    "       quickSortHlp(data_list,splitpoint+1,last)\n",
    "\n",
    "\n",
    "def partition(data_list,first,last):\n",
    "   pivotvalue = data_list[first]\n",
    "\n",
    "   leftmark = first+1\n",
    "   rightmark = last\n",
    "\n",
    "   done = False\n",
    "   while not done:\n",
    "\n",
    "       while leftmark <= rightmark and data_list[leftmark] <= pivotvalue:\n",
    "           leftmark = leftmark + 1\n",
    "\n",
    "       while data_list[rightmark] >= pivotvalue and rightmark >= leftmark:\n",
    "           rightmark = rightmark -1\n",
    "\n",
    "       if rightmark < leftmark:\n",
    "           done = True\n",
    "       else:\n",
    "           temp = data_list[leftmark]\n",
    "           data_list[leftmark] = data_list[rightmark]\n",
    "           data_list[rightmark] = temp\n",
    "\n",
    "   temp = data_list[first]\n",
    "   data_list[first] = data_list[rightmark]\n",
    "   data_list[rightmark] = temp\n",
    "\n",
    "\n",
    "   return rightmark\n",
    "\n",
    "data_list = sequence\n",
    "quickSort(data_list)\n",
    "print(data_list)"
   ]
  }
 ],
 "metadata": {
  "interpreter": {
   "hash": "c46c36cc25d279c31760a6c5a4579d7844eb55166908db1fbed5fb758b60da6b"
  },
  "kernelspec": {
   "display_name": "Python 3.8.8 64-bit ('base': conda)",
   "language": "python",
   "name": "python3"
  },
  "language_info": {
   "codemirror_mode": {
    "name": "ipython",
    "version": 3
   },
   "file_extension": ".py",
   "mimetype": "text/x-python",
   "name": "python",
   "nbconvert_exporter": "python",
   "pygments_lexer": "ipython3",
   "version": "3.8.8"
  },
  "orig_nbformat": 4
 },
 "nbformat": 4,
 "nbformat_minor": 2
}
